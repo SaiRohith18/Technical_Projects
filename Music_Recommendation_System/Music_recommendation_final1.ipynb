{
 "cells": [
  {
   "cell_type": "markdown",
   "id": "7d0d37d7-514f-4b59-9777-14f7a6c909d8",
   "metadata": {},
   "source": [
    "### Importing all the required Libraries"
   ]
  },
  {
   "cell_type": "code",
   "execution_count": 1,
   "id": "49c25943",
   "metadata": {},
   "outputs": [],
   "source": [
    "import pandas as pd\n",
    "import numpy as np\n",
    "from sklearn.preprocessing import StandardScaler\n",
    "from sklearn.preprocessing import OneHotEncoder\n",
    "from scipy.spatial import distance\n",
    "from sklearn.cluster import KMeans\n",
    "from sklearn.ensemble import RandomForestClassifier\n",
    "from sklearn.neighbors import NearestNeighbors\n",
    "import matplotlib.pyplot as plt\n",
    "import seaborn as sns"
   ]
  },
  {
   "cell_type": "code",
   "execution_count": 2,
   "id": "6a0905e1-6c82-4971-8a68-5b5c9c93a3bc",
   "metadata": {},
   "outputs": [
    {
     "data": {
      "text/plain": [
       "'To remove Warnings which are versions warning and does not effect our code'"
      ]
     },
     "execution_count": 2,
     "metadata": {},
     "output_type": "execute_result"
    }
   ],
   "source": [
    "import sys\n",
    "\n",
    "if not sys.warnoptions:\n",
    "    import warnings\n",
    "    warnings.simplefilter(\"ignore\")\n",
    "\"\"\"To remove Warnings which are versions warning and does not effect our code\"\"\""
   ]
  },
  {
   "cell_type": "code",
   "execution_count": 3,
   "id": "5887a2d8",
   "metadata": {},
   "outputs": [],
   "source": [
    "#load the dataset\n",
    "data = pd.read_csv(\"songs_dataset.csv\")"
   ]
  },
  {
   "cell_type": "code",
   "execution_count": 4,
   "id": "ac63d68a",
   "metadata": {},
   "outputs": [
    {
     "data": {
      "text/html": [
       "<div>\n",
       "<style scoped>\n",
       "    .dataframe tbody tr th:only-of-type {\n",
       "        vertical-align: middle;\n",
       "    }\n",
       "\n",
       "    .dataframe tbody tr th {\n",
       "        vertical-align: top;\n",
       "    }\n",
       "\n",
       "    .dataframe thead th {\n",
       "        text-align: right;\n",
       "    }\n",
       "</style>\n",
       "<table border=\"1\" class=\"dataframe\">\n",
       "  <thead>\n",
       "    <tr style=\"text-align: right;\">\n",
       "      <th></th>\n",
       "      <th>Unnamed: 0</th>\n",
       "      <th>artist_name</th>\n",
       "      <th>track_name</th>\n",
       "      <th>popularity</th>\n",
       "      <th>year</th>\n",
       "      <th>genre</th>\n",
       "      <th>danceability</th>\n",
       "      <th>loudness</th>\n",
       "      <th>instrumentalness</th>\n",
       "      <th>liveness</th>\n",
       "      <th>duration_ms</th>\n",
       "    </tr>\n",
       "  </thead>\n",
       "  <tbody>\n",
       "    <tr>\n",
       "      <th>0</th>\n",
       "      <td>0</td>\n",
       "      <td>Jason Mraz</td>\n",
       "      <td>I Won't Give Up</td>\n",
       "      <td>68</td>\n",
       "      <td>2012</td>\n",
       "      <td>acoustic</td>\n",
       "      <td>0.483</td>\n",
       "      <td>-10.058</td>\n",
       "      <td>0.000000</td>\n",
       "      <td>0.1150</td>\n",
       "      <td>240166</td>\n",
       "    </tr>\n",
       "    <tr>\n",
       "      <th>1</th>\n",
       "      <td>1</td>\n",
       "      <td>Jason Mraz</td>\n",
       "      <td>93 Million Miles</td>\n",
       "      <td>50</td>\n",
       "      <td>2012</td>\n",
       "      <td>acoustic</td>\n",
       "      <td>0.572</td>\n",
       "      <td>-10.286</td>\n",
       "      <td>0.000014</td>\n",
       "      <td>0.0974</td>\n",
       "      <td>216387</td>\n",
       "    </tr>\n",
       "    <tr>\n",
       "      <th>2</th>\n",
       "      <td>2</td>\n",
       "      <td>Joshua Hyslop</td>\n",
       "      <td>Do Not Let Me Go</td>\n",
       "      <td>57</td>\n",
       "      <td>2012</td>\n",
       "      <td>acoustic</td>\n",
       "      <td>0.409</td>\n",
       "      <td>-13.711</td>\n",
       "      <td>0.000050</td>\n",
       "      <td>0.0895</td>\n",
       "      <td>158960</td>\n",
       "    </tr>\n",
       "    <tr>\n",
       "      <th>3</th>\n",
       "      <td>3</td>\n",
       "      <td>Boyce Avenue</td>\n",
       "      <td>Fast Car</td>\n",
       "      <td>58</td>\n",
       "      <td>2012</td>\n",
       "      <td>acoustic</td>\n",
       "      <td>0.392</td>\n",
       "      <td>-9.845</td>\n",
       "      <td>0.000000</td>\n",
       "      <td>0.0797</td>\n",
       "      <td>304293</td>\n",
       "    </tr>\n",
       "    <tr>\n",
       "      <th>4</th>\n",
       "      <td>4</td>\n",
       "      <td>Andrew Belle</td>\n",
       "      <td>Sky's Still Blue</td>\n",
       "      <td>54</td>\n",
       "      <td>2012</td>\n",
       "      <td>acoustic</td>\n",
       "      <td>0.430</td>\n",
       "      <td>-5.419</td>\n",
       "      <td>0.019300</td>\n",
       "      <td>0.1100</td>\n",
       "      <td>244320</td>\n",
       "    </tr>\n",
       "  </tbody>\n",
       "</table>\n",
       "</div>"
      ],
      "text/plain": [
       "   Unnamed: 0    artist_name        track_name  popularity  year     genre  \\\n",
       "0           0     Jason Mraz   I Won't Give Up          68  2012  acoustic   \n",
       "1           1     Jason Mraz  93 Million Miles          50  2012  acoustic   \n",
       "2           2  Joshua Hyslop  Do Not Let Me Go          57  2012  acoustic   \n",
       "3           3   Boyce Avenue          Fast Car          58  2012  acoustic   \n",
       "4           4   Andrew Belle  Sky's Still Blue          54  2012  acoustic   \n",
       "\n",
       "   danceability  loudness  instrumentalness  liveness  duration_ms  \n",
       "0         0.483   -10.058          0.000000    0.1150       240166  \n",
       "1         0.572   -10.286          0.000014    0.0974       216387  \n",
       "2         0.409   -13.711          0.000050    0.0895       158960  \n",
       "3         0.392    -9.845          0.000000    0.0797       304293  \n",
       "4         0.430    -5.419          0.019300    0.1100       244320  "
      ]
     },
     "execution_count": 4,
     "metadata": {},
     "output_type": "execute_result"
    }
   ],
   "source": [
    "data.head()# to print first 5 rows of our dataframe named data"
   ]
  },
  {
   "cell_type": "code",
   "execution_count": 5,
   "id": "5fed9a2a",
   "metadata": {
    "scrolled": true
   },
   "outputs": [
    {
     "data": {
      "text/html": [
       "<div>\n",
       "<style scoped>\n",
       "    .dataframe tbody tr th:only-of-type {\n",
       "        vertical-align: middle;\n",
       "    }\n",
       "\n",
       "    .dataframe tbody tr th {\n",
       "        vertical-align: top;\n",
       "    }\n",
       "\n",
       "    .dataframe thead th {\n",
       "        text-align: right;\n",
       "    }\n",
       "</style>\n",
       "<table border=\"1\" class=\"dataframe\">\n",
       "  <thead>\n",
       "    <tr style=\"text-align: right;\">\n",
       "      <th></th>\n",
       "      <th>Unnamed: 0</th>\n",
       "      <th>artist_name</th>\n",
       "      <th>track_name</th>\n",
       "      <th>popularity</th>\n",
       "      <th>year</th>\n",
       "      <th>genre</th>\n",
       "      <th>danceability</th>\n",
       "      <th>loudness</th>\n",
       "      <th>instrumentalness</th>\n",
       "      <th>liveness</th>\n",
       "      <th>duration_ms</th>\n",
       "    </tr>\n",
       "  </thead>\n",
       "  <tbody>\n",
       "    <tr>\n",
       "      <th>119449</th>\n",
       "      <td>119449</td>\n",
       "      <td>Ledisi</td>\n",
       "      <td>Shine</td>\n",
       "      <td>12</td>\n",
       "      <td>2011</td>\n",
       "      <td>soul</td>\n",
       "      <td>0.721</td>\n",
       "      <td>-5.153</td>\n",
       "      <td>0.000044</td>\n",
       "      <td>0.1150</td>\n",
       "      <td>229827</td>\n",
       "    </tr>\n",
       "    <tr>\n",
       "      <th>119450</th>\n",
       "      <td>119450</td>\n",
       "      <td>Mary J. Blige</td>\n",
       "      <td>Intro / My Life II...The Journey Continues / M...</td>\n",
       "      <td>13</td>\n",
       "      <td>2011</td>\n",
       "      <td>soul</td>\n",
       "      <td>0.641</td>\n",
       "      <td>-14.776</td>\n",
       "      <td>0.000084</td>\n",
       "      <td>0.1060</td>\n",
       "      <td>76200</td>\n",
       "    </tr>\n",
       "    <tr>\n",
       "      <th>119451</th>\n",
       "      <td>119451</td>\n",
       "      <td>Benny Sings</td>\n",
       "      <td>This Is A Samba</td>\n",
       "      <td>16</td>\n",
       "      <td>2011</td>\n",
       "      <td>soul</td>\n",
       "      <td>0.879</td>\n",
       "      <td>-11.414</td>\n",
       "      <td>0.017000</td>\n",
       "      <td>0.0983</td>\n",
       "      <td>142133</td>\n",
       "    </tr>\n",
       "    <tr>\n",
       "      <th>119452</th>\n",
       "      <td>119452</td>\n",
       "      <td>Tyrese</td>\n",
       "      <td>Angel</td>\n",
       "      <td>11</td>\n",
       "      <td>2011</td>\n",
       "      <td>soul</td>\n",
       "      <td>0.529</td>\n",
       "      <td>-7.614</td>\n",
       "      <td>0.000000</td>\n",
       "      <td>0.1330</td>\n",
       "      <td>263613</td>\n",
       "    </tr>\n",
       "    <tr>\n",
       "      <th>119453</th>\n",
       "      <td>119453</td>\n",
       "      <td>Dusty Springfield</td>\n",
       "      <td>A House Is Not a Home - Live</td>\n",
       "      <td>17</td>\n",
       "      <td>2011</td>\n",
       "      <td>soul</td>\n",
       "      <td>0.281</td>\n",
       "      <td>-11.398</td>\n",
       "      <td>0.000004</td>\n",
       "      <td>0.7330</td>\n",
       "      <td>252720</td>\n",
       "    </tr>\n",
       "  </tbody>\n",
       "</table>\n",
       "</div>"
      ],
      "text/plain": [
       "        Unnamed: 0        artist_name  \\\n",
       "119449      119449             Ledisi   \n",
       "119450      119450      Mary J. Blige   \n",
       "119451      119451        Benny Sings   \n",
       "119452      119452             Tyrese   \n",
       "119453      119453  Dusty Springfield   \n",
       "\n",
       "                                               track_name  popularity  year  \\\n",
       "119449                                              Shine          12  2011   \n",
       "119450  Intro / My Life II...The Journey Continues / M...          13  2011   \n",
       "119451                                    This Is A Samba          16  2011   \n",
       "119452                                              Angel          11  2011   \n",
       "119453                       A House Is Not a Home - Live          17  2011   \n",
       "\n",
       "       genre  danceability  loudness  instrumentalness  liveness  duration_ms  \n",
       "119449  soul         0.721    -5.153          0.000044    0.1150       229827  \n",
       "119450  soul         0.641   -14.776          0.000084    0.1060        76200  \n",
       "119451  soul         0.879   -11.414          0.017000    0.0983       142133  \n",
       "119452  soul         0.529    -7.614          0.000000    0.1330       263613  \n",
       "119453  soul         0.281   -11.398          0.000004    0.7330       252720  "
      ]
     },
     "execution_count": 5,
     "metadata": {},
     "output_type": "execute_result"
    }
   ],
   "source": [
    "data.tail()# to print last 5 rows of our dataframe named data"
   ]
  },
  {
   "cell_type": "markdown",
   "id": "97916a6d",
   "metadata": {},
   "source": [
    "### Data Cleaning & Perform exploratory data analysis (EDA)"
   ]
  },
  {
   "cell_type": "code",
   "execution_count": 6,
   "id": "83a2b21c",
   "metadata": {},
   "outputs": [],
   "source": [
    "# Remove the 'Unnamed: 0' column\n",
    "data = data.drop([\"Unnamed: 0\"], axis=1)"
   ]
  },
  {
   "cell_type": "code",
   "execution_count": 7,
   "id": "dae46c2f",
   "metadata": {},
   "outputs": [],
   "source": [
    "# Create a copy of the DataFrame\n",
    "df = data.copy()"
   ]
  },
  {
   "cell_type": "code",
   "execution_count": 8,
   "id": "0a4269e9",
   "metadata": {},
   "outputs": [],
   "source": [
    "# Drop columns that won't be used for modeling\n",
    "df = df.drop([\"artist_name\", \"track_name\"], axis=1)"
   ]
  },
  {
   "cell_type": "code",
   "execution_count": 9,
   "id": "f9ee690c",
   "metadata": {},
   "outputs": [
    {
     "data": {
      "text/html": [
       "<div>\n",
       "<style scoped>\n",
       "    .dataframe tbody tr th:only-of-type {\n",
       "        vertical-align: middle;\n",
       "    }\n",
       "\n",
       "    .dataframe tbody tr th {\n",
       "        vertical-align: top;\n",
       "    }\n",
       "\n",
       "    .dataframe thead th {\n",
       "        text-align: right;\n",
       "    }\n",
       "</style>\n",
       "<table border=\"1\" class=\"dataframe\">\n",
       "  <thead>\n",
       "    <tr style=\"text-align: right;\">\n",
       "      <th></th>\n",
       "      <th>popularity</th>\n",
       "      <th>danceability</th>\n",
       "      <th>duration_ms</th>\n",
       "      <th>instrumentalness</th>\n",
       "      <th>liveness</th>\n",
       "      <th>loudness</th>\n",
       "    </tr>\n",
       "  </thead>\n",
       "  <tbody>\n",
       "    <tr>\n",
       "      <th>0</th>\n",
       "      <td>3.159614</td>\n",
       "      <td>0.078695</td>\n",
       "      <td>-0.091993</td>\n",
       "      <td>-0.991832</td>\n",
       "      <td>-0.417344</td>\n",
       "      <td>0.524306</td>\n",
       "    </tr>\n",
       "    <tr>\n",
       "      <th>1</th>\n",
       "      <td>1.990829</td>\n",
       "      <td>0.538605</td>\n",
       "      <td>-0.183467</td>\n",
       "      <td>-0.991799</td>\n",
       "      <td>-0.516563</td>\n",
       "      <td>0.497745</td>\n",
       "    </tr>\n",
       "    <tr>\n",
       "      <th>2</th>\n",
       "      <td>2.445357</td>\n",
       "      <td>-0.303702</td>\n",
       "      <td>-0.404381</td>\n",
       "      <td>-0.991712</td>\n",
       "      <td>-0.561099</td>\n",
       "      <td>0.098751</td>\n",
       "    </tr>\n",
       "    <tr>\n",
       "      <th>3</th>\n",
       "      <td>2.510289</td>\n",
       "      <td>-0.391550</td>\n",
       "      <td>0.154695</td>\n",
       "      <td>-0.991832</td>\n",
       "      <td>-0.616346</td>\n",
       "      <td>0.549119</td>\n",
       "    </tr>\n",
       "    <tr>\n",
       "      <th>4</th>\n",
       "      <td>2.250559</td>\n",
       "      <td>-0.195184</td>\n",
       "      <td>-0.076013</td>\n",
       "      <td>-0.945698</td>\n",
       "      <td>-0.445531</td>\n",
       "      <td>1.064724</td>\n",
       "    </tr>\n",
       "    <tr>\n",
       "      <th>...</th>\n",
       "      <td>...</td>\n",
       "      <td>...</td>\n",
       "      <td>...</td>\n",
       "      <td>...</td>\n",
       "      <td>...</td>\n",
       "      <td>...</td>\n",
       "    </tr>\n",
       "    <tr>\n",
       "      <th>119449</th>\n",
       "      <td>-0.476608</td>\n",
       "      <td>1.308567</td>\n",
       "      <td>-0.131765</td>\n",
       "      <td>-0.991726</td>\n",
       "      <td>-0.417344</td>\n",
       "      <td>1.095711</td>\n",
       "    </tr>\n",
       "    <tr>\n",
       "      <th>119450</th>\n",
       "      <td>-0.411675</td>\n",
       "      <td>0.895165</td>\n",
       "      <td>-0.722747</td>\n",
       "      <td>-0.991631</td>\n",
       "      <td>-0.468081</td>\n",
       "      <td>-0.025315</td>\n",
       "    </tr>\n",
       "    <tr>\n",
       "      <th>119451</th>\n",
       "      <td>-0.216878</td>\n",
       "      <td>2.125037</td>\n",
       "      <td>-0.469112</td>\n",
       "      <td>-0.951196</td>\n",
       "      <td>-0.511489</td>\n",
       "      <td>0.366339</td>\n",
       "    </tr>\n",
       "    <tr>\n",
       "      <th>119452</th>\n",
       "      <td>-0.541540</td>\n",
       "      <td>0.316401</td>\n",
       "      <td>-0.001795</td>\n",
       "      <td>-0.991832</td>\n",
       "      <td>-0.315870</td>\n",
       "      <td>0.809018</td>\n",
       "    </tr>\n",
       "    <tr>\n",
       "      <th>119453</th>\n",
       "      <td>-0.151945</td>\n",
       "      <td>-0.965146</td>\n",
       "      <td>-0.043699</td>\n",
       "      <td>-0.991822</td>\n",
       "      <td>3.066600</td>\n",
       "      <td>0.368203</td>\n",
       "    </tr>\n",
       "  </tbody>\n",
       "</table>\n",
       "<p>119454 rows × 6 columns</p>\n",
       "</div>"
      ],
      "text/plain": [
       "        popularity  danceability  duration_ms  instrumentalness  liveness  \\\n",
       "0         3.159614      0.078695    -0.091993         -0.991832 -0.417344   \n",
       "1         1.990829      0.538605    -0.183467         -0.991799 -0.516563   \n",
       "2         2.445357     -0.303702    -0.404381         -0.991712 -0.561099   \n",
       "3         2.510289     -0.391550     0.154695         -0.991832 -0.616346   \n",
       "4         2.250559     -0.195184    -0.076013         -0.945698 -0.445531   \n",
       "...            ...           ...          ...               ...       ...   \n",
       "119449   -0.476608      1.308567    -0.131765         -0.991726 -0.417344   \n",
       "119450   -0.411675      0.895165    -0.722747         -0.991631 -0.468081   \n",
       "119451   -0.216878      2.125037    -0.469112         -0.951196 -0.511489   \n",
       "119452   -0.541540      0.316401    -0.001795         -0.991832 -0.315870   \n",
       "119453   -0.151945     -0.965146    -0.043699         -0.991822  3.066600   \n",
       "\n",
       "        loudness  \n",
       "0       0.524306  \n",
       "1       0.497745  \n",
       "2       0.098751  \n",
       "3       0.549119  \n",
       "4       1.064724  \n",
       "...          ...  \n",
       "119449  1.095711  \n",
       "119450 -0.025315  \n",
       "119451  0.366339  \n",
       "119452  0.809018  \n",
       "119453  0.368203  \n",
       "\n",
       "[119454 rows x 6 columns]"
      ]
     },
     "execution_count": 9,
     "metadata": {},
     "output_type": "execute_result"
    }
   ],
   "source": [
    "# Standardize numerical features\n",
    "col = ['popularity', 'danceability', 'duration_ms', 'instrumentalness', 'liveness', 'loudness']\n",
    "scaler = StandardScaler()\n",
    "df[col] = scaler.fit_transform(df[col])\n",
    "df[col]"
   ]
  },
  {
   "cell_type": "code",
   "execution_count": 10,
   "id": "7c1f3b72",
   "metadata": {},
   "outputs": [],
   "source": [
    "# One-hot encode the 'genre' column\n",
    "encoder = OneHotEncoder(sparse=False, handle_unknown=\"ignore\")\n",
    "enc = pd.DataFrame(encoder.fit_transform(np.array(df[\"genre\"]).reshape(-1, 1)))\n",
    "enc.columns = df[\"genre\"].unique()"
   ]
  },
  {
   "cell_type": "code",
   "execution_count": 11,
   "id": "2b884bdc",
   "metadata": {},
   "outputs": [],
   "source": [
    "# Add one-hot encoded genre columns to the DataFrame\n",
    "df[enc.columns] = enc"
   ]
  },
  {
   "cell_type": "code",
   "execution_count": 12,
   "id": "ee2c5b9e",
   "metadata": {},
   "outputs": [],
   "source": [
    "# Drop the original 'genre' column\n",
    "df = df.drop(\"genre\", axis=1)"
   ]
  },
  {
   "cell_type": "code",
   "execution_count": 13,
   "id": "c7f10a78",
   "metadata": {},
   "outputs": [],
   "source": [
    "# Create a copy of the DataFrame for modeling without 'artist' and 'name' columns\n",
    "df[\"name\"] = data[\"track_name\"]\n",
    "df[\"artist\"] = data[\"artist_name\"]\n",
    "\n",
    "df_2 = df.drop([\"artist\",\"name\"],axis=1)"
   ]
  },
  {
   "cell_type": "markdown",
   "id": "3ae097d4",
   "metadata": {},
   "source": [
    "\n",
    "### Visualize correlations between features"
   ]
  },
  {
   "cell_type": "code",
   "execution_count": 14,
   "id": "a7a8cc93",
   "metadata": {},
   "outputs": [
    {
     "data": {
      "image/png": "[encoded data removed]",
      "text/plain": [
       "<Figure size 1200x800 with 2 Axes>"
      ]
     },
     "metadata": {},
     "output_type": "display_data"
    }
   ],
   "source": [
    "# Select only numeric columns from the DataFrame\n",
    "numeric_df = df.select_dtypes(include=['number'])\n",
    "\n",
    "# Plot the correlation heatmap for numeric columns\n",
    "plt.figure(figsize=(12, 8))\n",
    "sns.heatmap(numeric_df.corr(), annot=True, cmap='coolwarm', fmt=\".2f\")\n",
    "plt.title(\"Correlation Heatmap\")\n",
    "plt.show()"
   ]
  },
  {
   "cell_type": "markdown",
   "id": "deb0b549",
   "metadata": {},
   "source": [
    "# Model-1: K-Means Clustering\n",
    "### By popularity"
   ]
  },
  {
   "cell_type": "code",
   "execution_count": 15,
   "id": "f0e45f29",
   "metadata": {},
   "outputs": [],
   "source": [
    "from sklearn.cluster import KMeans\n",
    "import matplotlib.pyplot as plt"
   ]
  },
  {
   "cell_type": "code",
   "execution_count": 16,
   "id": "1e89d984",
   "metadata": {},
   "outputs": [
    {
     "data": {
      "image/png": "[encoded data removed]",
      "text/plain": [
       "<Figure size 640x480 with 1 Axes>"
      ]
     },
     "metadata": {},
     "output_type": "display_data"
    }
   ],
   "source": [
    "wcss = []\n",
    "for i in range(1, 10):\n",
    "    kmeans = KMeans(n_clusters=i,random_state=0)\n",
    "    kmeans.fit(df[col])\n",
    "    wcss.append(kmeans.inertia_)\n",
    "    \n",
    "plt.plot(range(1, 10), wcss)\n",
    "plt.title('Elbow Method')\n",
    "plt.xlabel('Number of clusters')\n",
    "plt.ylabel('WCSS')\n",
    "plt.show()\n"
   ]
  },
  {
   "cell_type": "code",
   "execution_count": 17,
   "id": "ea3e4b5a",
   "metadata": {},
   "outputs": [
    {
     "data": {
      "text/plain": [
       "array([3, 3, 3, ..., 1, 1, 2])"
      ]
     },
     "execution_count": 17,
     "metadata": {},
     "output_type": "execute_result"
    }
   ],
   "source": [
    "clusters_new = KMeans(6, random_state=42)\n",
    "clusters_new.fit(df[col])\n",
    "clusters_new.labels_"
   ]
  },
  {
   "cell_type": "code",
   "execution_count": 18,
   "id": "036a3ac5",
   "metadata": {},
   "outputs": [
    {
     "data": {
      "text/html": [
       "<div>\n",
       "<style scoped>\n",
       "    .dataframe tbody tr th:only-of-type {\n",
       "        vertical-align: middle;\n",
       "    }\n",
       "\n",
       "    .dataframe tbody tr th {\n",
       "        vertical-align: top;\n",
       "    }\n",
       "\n",
       "    .dataframe thead th {\n",
       "        text-align: right;\n",
       "    }\n",
       "</style>\n",
       "<table border=\"1\" class=\"dataframe\">\n",
       "  <thead>\n",
       "    <tr style=\"text-align: right;\">\n",
       "      <th></th>\n",
       "      <th>popularity</th>\n",
       "      <th>year</th>\n",
       "      <th>danceability</th>\n",
       "      <th>loudness</th>\n",
       "      <th>instrumentalness</th>\n",
       "      <th>liveness</th>\n",
       "      <th>duration_ms</th>\n",
       "      <th>acoustic</th>\n",
       "      <th>chill</th>\n",
       "      <th>classical</th>\n",
       "      <th>indian</th>\n",
       "      <th>piano</th>\n",
       "      <th>sleep</th>\n",
       "      <th>soul</th>\n",
       "      <th>name</th>\n",
       "      <th>artist</th>\n",
       "      <th>clusterid_new</th>\n",
       "    </tr>\n",
       "  </thead>\n",
       "  <tbody>\n",
       "    <tr>\n",
       "      <th>0</th>\n",
       "      <td>3.159614</td>\n",
       "      <td>2012</td>\n",
       "      <td>0.078695</td>\n",
       "      <td>0.524306</td>\n",
       "      <td>-0.991832</td>\n",
       "      <td>-0.417344</td>\n",
       "      <td>-0.091993</td>\n",
       "      <td>1.0</td>\n",
       "      <td>0.0</td>\n",
       "      <td>0.0</td>\n",
       "      <td>0.0</td>\n",
       "      <td>0.0</td>\n",
       "      <td>0.0</td>\n",
       "      <td>0.0</td>\n",
       "      <td>I Won't Give Up</td>\n",
       "      <td>Jason Mraz</td>\n",
       "      <td>3</td>\n",
       "    </tr>\n",
       "    <tr>\n",
       "      <th>1</th>\n",
       "      <td>1.990829</td>\n",
       "      <td>2012</td>\n",
       "      <td>0.538605</td>\n",
       "      <td>0.497745</td>\n",
       "      <td>-0.991799</td>\n",
       "      <td>-0.516563</td>\n",
       "      <td>-0.183467</td>\n",
       "      <td>1.0</td>\n",
       "      <td>0.0</td>\n",
       "      <td>0.0</td>\n",
       "      <td>0.0</td>\n",
       "      <td>0.0</td>\n",
       "      <td>0.0</td>\n",
       "      <td>0.0</td>\n",
       "      <td>93 Million Miles</td>\n",
       "      <td>Jason Mraz</td>\n",
       "      <td>3</td>\n",
       "    </tr>\n",
       "    <tr>\n",
       "      <th>2</th>\n",
       "      <td>2.445357</td>\n",
       "      <td>2012</td>\n",
       "      <td>-0.303702</td>\n",
       "      <td>0.098751</td>\n",
       "      <td>-0.991712</td>\n",
       "      <td>-0.561099</td>\n",
       "      <td>-0.404381</td>\n",
       "      <td>1.0</td>\n",
       "      <td>0.0</td>\n",
       "      <td>0.0</td>\n",
       "      <td>0.0</td>\n",
       "      <td>0.0</td>\n",
       "      <td>0.0</td>\n",
       "      <td>0.0</td>\n",
       "      <td>Do Not Let Me Go</td>\n",
       "      <td>Joshua Hyslop</td>\n",
       "      <td>3</td>\n",
       "    </tr>\n",
       "    <tr>\n",
       "      <th>3</th>\n",
       "      <td>2.510289</td>\n",
       "      <td>2012</td>\n",
       "      <td>-0.391550</td>\n",
       "      <td>0.549119</td>\n",
       "      <td>-0.991832</td>\n",
       "      <td>-0.616346</td>\n",
       "      <td>0.154695</td>\n",
       "      <td>1.0</td>\n",
       "      <td>0.0</td>\n",
       "      <td>0.0</td>\n",
       "      <td>0.0</td>\n",
       "      <td>0.0</td>\n",
       "      <td>0.0</td>\n",
       "      <td>0.0</td>\n",
       "      <td>Fast Car</td>\n",
       "      <td>Boyce Avenue</td>\n",
       "      <td>3</td>\n",
       "    </tr>\n",
       "    <tr>\n",
       "      <th>4</th>\n",
       "      <td>2.250559</td>\n",
       "      <td>2012</td>\n",
       "      <td>-0.195184</td>\n",
       "      <td>1.064724</td>\n",
       "      <td>-0.945698</td>\n",
       "      <td>-0.445531</td>\n",
       "      <td>-0.076013</td>\n",
       "      <td>1.0</td>\n",
       "      <td>0.0</td>\n",
       "      <td>0.0</td>\n",
       "      <td>0.0</td>\n",
       "      <td>0.0</td>\n",
       "      <td>0.0</td>\n",
       "      <td>0.0</td>\n",
       "      <td>Sky's Still Blue</td>\n",
       "      <td>Andrew Belle</td>\n",
       "      <td>3</td>\n",
       "    </tr>\n",
       "    <tr>\n",
       "      <th>...</th>\n",
       "      <td>...</td>\n",
       "      <td>...</td>\n",
       "      <td>...</td>\n",
       "      <td>...</td>\n",
       "      <td>...</td>\n",
       "      <td>...</td>\n",
       "      <td>...</td>\n",
       "      <td>...</td>\n",
       "      <td>...</td>\n",
       "      <td>...</td>\n",
       "      <td>...</td>\n",
       "      <td>...</td>\n",
       "      <td>...</td>\n",
       "      <td>...</td>\n",
       "      <td>...</td>\n",
       "      <td>...</td>\n",
       "      <td>...</td>\n",
       "    </tr>\n",
       "    <tr>\n",
       "      <th>119449</th>\n",
       "      <td>-0.476608</td>\n",
       "      <td>2011</td>\n",
       "      <td>1.308567</td>\n",
       "      <td>1.095711</td>\n",
       "      <td>-0.991726</td>\n",
       "      <td>-0.417344</td>\n",
       "      <td>-0.131765</td>\n",
       "      <td>0.0</td>\n",
       "      <td>0.0</td>\n",
       "      <td>0.0</td>\n",
       "      <td>0.0</td>\n",
       "      <td>0.0</td>\n",
       "      <td>0.0</td>\n",
       "      <td>1.0</td>\n",
       "      <td>Shine</td>\n",
       "      <td>Ledisi</td>\n",
       "      <td>1</td>\n",
       "    </tr>\n",
       "    <tr>\n",
       "      <th>119450</th>\n",
       "      <td>-0.411675</td>\n",
       "      <td>2011</td>\n",
       "      <td>0.895165</td>\n",
       "      <td>-0.025315</td>\n",
       "      <td>-0.991631</td>\n",
       "      <td>-0.468081</td>\n",
       "      <td>-0.722747</td>\n",
       "      <td>0.0</td>\n",
       "      <td>0.0</td>\n",
       "      <td>0.0</td>\n",
       "      <td>0.0</td>\n",
       "      <td>0.0</td>\n",
       "      <td>0.0</td>\n",
       "      <td>1.0</td>\n",
       "      <td>Intro / My Life II...The Journey Continues / M...</td>\n",
       "      <td>Mary J. Blige</td>\n",
       "      <td>1</td>\n",
       "    </tr>\n",
       "    <tr>\n",
       "      <th>119451</th>\n",
       "      <td>-0.216878</td>\n",
       "      <td>2011</td>\n",
       "      <td>2.125037</td>\n",
       "      <td>0.366339</td>\n",
       "      <td>-0.951196</td>\n",
       "      <td>-0.511489</td>\n",
       "      <td>-0.469112</td>\n",
       "      <td>0.0</td>\n",
       "      <td>0.0</td>\n",
       "      <td>0.0</td>\n",
       "      <td>0.0</td>\n",
       "      <td>0.0</td>\n",
       "      <td>0.0</td>\n",
       "      <td>1.0</td>\n",
       "      <td>This Is A Samba</td>\n",
       "      <td>Benny Sings</td>\n",
       "      <td>1</td>\n",
       "    </tr>\n",
       "    <tr>\n",
       "      <th>119452</th>\n",
       "      <td>-0.541540</td>\n",
       "      <td>2011</td>\n",
       "      <td>0.316401</td>\n",
       "      <td>0.809018</td>\n",
       "      <td>-0.991832</td>\n",
       "      <td>-0.315870</td>\n",
       "      <td>-0.001795</td>\n",
       "      <td>0.0</td>\n",
       "      <td>0.0</td>\n",
       "      <td>0.0</td>\n",
       "      <td>0.0</td>\n",
       "      <td>0.0</td>\n",
       "      <td>0.0</td>\n",
       "      <td>1.0</td>\n",
       "      <td>Angel</td>\n",
       "      <td>Tyrese</td>\n",
       "      <td>1</td>\n",
       "    </tr>\n",
       "    <tr>\n",
       "      <th>119453</th>\n",
       "      <td>-0.151945</td>\n",
       "      <td>2011</td>\n",
       "      <td>-0.965146</td>\n",
       "      <td>0.368203</td>\n",
       "      <td>-0.991822</td>\n",
       "      <td>3.066600</td>\n",
       "      <td>-0.043699</td>\n",
       "      <td>0.0</td>\n",
       "      <td>0.0</td>\n",
       "      <td>0.0</td>\n",
       "      <td>0.0</td>\n",
       "      <td>0.0</td>\n",
       "      <td>0.0</td>\n",
       "      <td>1.0</td>\n",
       "      <td>A House Is Not a Home - Live</td>\n",
       "      <td>Dusty Springfield</td>\n",
       "      <td>2</td>\n",
       "    </tr>\n",
       "  </tbody>\n",
       "</table>\n",
       "<p>119454 rows × 17 columns</p>\n",
       "</div>"
      ],
      "text/plain": [
       "        popularity  year  danceability  loudness  instrumentalness  liveness  \\\n",
       "0         3.159614  2012      0.078695  0.524306         -0.991832 -0.417344   \n",
       "1         1.990829  2012      0.538605  0.497745         -0.991799 -0.516563   \n",
       "2         2.445357  2012     -0.303702  0.098751         -0.991712 -0.561099   \n",
       "3         2.510289  2012     -0.391550  0.549119         -0.991832 -0.616346   \n",
       "4         2.250559  2012     -0.195184  1.064724         -0.945698 -0.445531   \n",
       "...            ...   ...           ...       ...               ...       ...   \n",
       "119449   -0.476608  2011      1.308567  1.095711         -0.991726 -0.417344   \n",
       "119450   -0.411675  2011      0.895165 -0.025315         -0.991631 -0.468081   \n",
       "119451   -0.216878  2011      2.125037  0.366339         -0.951196 -0.511489   \n",
       "119452   -0.541540  2011      0.316401  0.809018         -0.991832 -0.315870   \n",
       "119453   -0.151945  2011     -0.965146  0.368203         -0.991822  3.066600   \n",
       "\n",
       "        duration_ms  acoustic  chill  classical  indian  piano  sleep  soul  \\\n",
       "0         -0.091993       1.0    0.0        0.0     0.0    0.0    0.0   0.0   \n",
       "1         -0.183467       1.0    0.0        0.0     0.0    0.0    0.0   0.0   \n",
       "2         -0.404381       1.0    0.0        0.0     0.0    0.0    0.0   0.0   \n",
       "3          0.154695       1.0    0.0        0.0     0.0    0.0    0.0   0.0   \n",
       "4         -0.076013       1.0    0.0        0.0     0.0    0.0    0.0   0.0   \n",
       "...             ...       ...    ...        ...     ...    ...    ...   ...   \n",
       "119449    -0.131765       0.0    0.0        0.0     0.0    0.0    0.0   1.0   \n",
       "119450    -0.722747       0.0    0.0        0.0     0.0    0.0    0.0   1.0   \n",
       "119451    -0.469112       0.0    0.0        0.0     0.0    0.0    0.0   1.0   \n",
       "119452    -0.001795       0.0    0.0        0.0     0.0    0.0    0.0   1.0   \n",
       "119453    -0.043699       0.0    0.0        0.0     0.0    0.0    0.0   1.0   \n",
       "\n",
       "                                                     name             artist  \\\n",
       "0                                         I Won't Give Up         Jason Mraz   \n",
       "1                                        93 Million Miles         Jason Mraz   \n",
       "2                                        Do Not Let Me Go      Joshua Hyslop   \n",
       "3                                                Fast Car       Boyce Avenue   \n",
       "4                                        Sky's Still Blue       Andrew Belle   \n",
       "...                                                   ...                ...   \n",
       "119449                                              Shine             Ledisi   \n",
       "119450  Intro / My Life II...The Journey Continues / M...      Mary J. Blige   \n",
       "119451                                    This Is A Samba        Benny Sings   \n",
       "119452                                              Angel             Tyrese   \n",
       "119453                       A House Is Not a Home - Live  Dusty Springfield   \n",
       "\n",
       "        clusterid_new  \n",
       "0                   3  \n",
       "1                   3  \n",
       "2                   3  \n",
       "3                   3  \n",
       "4                   3  \n",
       "...               ...  \n",
       "119449              1  \n",
       "119450              1  \n",
       "119451              1  \n",
       "119452              1  \n",
       "119453              2  \n",
       "\n",
       "[119454 rows x 17 columns]"
      ]
     },
     "execution_count": 18,
     "metadata": {},
     "output_type": "execute_result"
    }
   ],
   "source": [
    "df['clusterid_new'] = clusters_new.labels_\n",
    "df"
   ]
  },
  {
   "cell_type": "code",
   "execution_count": 19,
   "id": "d1ecf18e",
   "metadata": {},
   "outputs": [
    {
     "data": {
      "text/plain": [
       "array([[ 1.94285610e-01, -1.06896312e+00, -1.65244618e-01,\n",
       "         9.03820090e-01, -3.14581033e-01, -1.35301219e+00],\n",
       "       [-6.63313876e-01,  2.42450449e-01, -5.64928468e-03,\n",
       "        -8.96566746e-01, -1.45403967e-01,  5.39676805e-01],\n",
       "       [-2.14634173e-01, -5.25456925e-01,  4.35206388e-02,\n",
       "         7.31327416e-04,  3.20412396e+00, -5.78173966e-03],\n",
       "       [ 1.17772763e+00,  7.26683448e-01, -1.87494905e-01,\n",
       "        -7.96192655e-01, -1.76462568e-01,  6.82509174e-01],\n",
       "       [-2.72824567e-01,  3.80841283e-01, -2.89431062e-02,\n",
       "         1.01305453e+00, -2.67033548e-01,  1.32968903e-01],\n",
       "       [-8.53045681e-01, -7.21919357e-01,  6.98075247e+00,\n",
       "         1.47982916e-01,  5.51048361e-01, -2.39341020e-01]])"
      ]
     },
     "execution_count": 19,
     "metadata": {},
     "output_type": "execute_result"
    }
   ],
   "source": [
    "clusters_new.cluster_centers_"
   ]
  },
  {
   "cell_type": "code",
   "execution_count": 20,
   "id": "865ed249",
   "metadata": {},
   "outputs": [
    {
     "data": {
      "text/plain": [
       "<matplotlib.collections.PathCollection at 0x1fbc1ee4150>"
      ]
     },
     "execution_count": 20,
     "metadata": {},
     "output_type": "execute_result"
    },
    {
     "data": {
      "image/png": "[encoded data removed]",
      "text/plain": [
       "<Figure size 1000x700 with 1 Axes>"
      ]
     },
     "metadata": {},
     "output_type": "display_data"
    }
   ],
   "source": [
    "plt.figure(figsize=(10, 7))  \n",
    "plt.scatter(df['clusterid_new'],df['popularity'], c=clusters_new.labels_) "
   ]
  },
  {
   "cell_type": "code",
   "execution_count": 21,
   "id": "42881d9a",
   "metadata": {},
   "outputs": [],
   "source": [
    "def recommend_songs(input_song, num_recommendations=10):\n",
    "    # Find the cluster of the input song\n",
    "    input_song_cluster = df.loc[df['name'] == input_song, 'clusterid_new'].values[0]\n",
    "    \n",
    "    # Filter songs that belong to the same cluster as the input song\n",
    "    recommended_songs = df[df['clusterid_new'] == input_song_cluster]\n",
    "    \n",
    "    # Exclude the input song from recommendations\n",
    "    recommended_songs = recommended_songs[recommended_songs['name'] != input_song]\n",
    "    \n",
    "    # Sort recommended songs by popularity or any other relevant feature\n",
    "    recommended_songs = recommended_songs.sort_values(by='popularity', ascending=False)\n",
    "    \n",
    "    # Return the top N recommendations\n",
    "    return recommended_songs[['name', 'artist']].head(num_recommendations)"
   ]
  },
  {
   "cell_type": "code",
   "execution_count": 22,
   "id": "a30fb642",
   "metadata": {},
   "outputs": [
    {
     "name": "stdout",
     "output_type": "stream",
     "text": [
      "Recommendations for 'Shine':\n",
      "                                                     name          artist\n",
      "2083                                   ANGEL OF SALVATION       GALNERYUS\n",
      "87895                           The King for a 1000 Years       Helloween\n",
      "70223                                         Unholy Wars           ANGRA\n",
      "74307                                    The Great Debate   Dream Theater\n",
      "74332                    VIII. Losing Time / Grand Finale   Dream Theater\n",
      "79088                                       San Sebastian  Sonata Arctica\n",
      "101582                                       Head Up High        Firewind\n",
      "96932   Memoro De La Stono​~​Distant Worlds (Final Fan...   Nobuo Uematsu\n",
      "38709          Cosmic Power of the Infinite Shred Machine     DragonForce\n",
      "55817                                      The First Noël  Andrea Bocelli\n"
     ]
    }
   ],
   "source": [
    "input_song = \"Shine\"  # Replace with the song you want recommendations for\n",
    "recommendations = recommend_songs(input_song)\n",
    "print(\"Recommendations for '{}':\".format(input_song))\n",
    "print(recommendations)"
   ]
  },
  {
   "cell_type": "markdown",
   "id": "2721c8a3",
   "metadata": {},
   "source": [
    "# Model-2: KNN"
   ]
  },
  {
   "cell_type": "code",
   "execution_count": 23,
   "id": "ff3380aa",
   "metadata": {},
   "outputs": [],
   "source": [
    "from sklearn.neighbors import NearestNeighbors"
   ]
  },
  {
   "cell_type": "code",
   "execution_count": 24,
   "id": "c0b426df",
   "metadata": {},
   "outputs": [
    {
     "data": {
      "text/html": [
       "<style>#sk-container-id-1 {color: black;}#sk-container-id-1 pre{padding: 0;}#sk-container-id-1 div.sk-toggleable {background-color: white;}#sk-container-id-1 label.sk-toggleable__label {cursor: pointer;display: block;width: 100%;margin-bottom: 0;padding: 0.3em;box-sizing: border-box;text-align: center;}#sk-container-id-1 label.sk-toggleable__label-arrow:before {content: \"▸\";float: left;margin-right: 0.25em;color: #696969;}#sk-container-id-1 label.sk-toggleable__label-arrow:hover:before {color: black;}#sk-container-id-1 div.sk-estimator:hover label.sk-toggleable__label-arrow:before {color: black;}#sk-container-id-1 div.sk-toggleable__content {max-height: 0;max-width: 0;overflow: hidden;text-align: left;background-color: #f0f8ff;}#sk-container-id-1 div.sk-toggleable__content pre {margin: 0.2em;color: black;border-radius: 0.25em;background-color: #f0f8ff;}#sk-container-id-1 input.sk-toggleable__control:checked~div.sk-toggleable__content {max-height: 200px;max-width: 100%;overflow: auto;}#sk-container-id-1 input.sk-toggleable__control:checked~label.sk-toggleable__label-arrow:before {content: \"▾\";}#sk-container-id-1 div.sk-estimator input.sk-toggleable__control:checked~label.sk-toggleable__label {background-color: #d4ebff;}#sk-container-id-1 div.sk-label input.sk-toggleable__control:checked~label.sk-toggleable__label {background-color: #d4ebff;}#sk-container-id-1 input.sk-hidden--visually {border: 0;clip: rect(1px 1px 1px 1px);clip: rect(1px, 1px, 1px, 1px);height: 1px;margin: -1px;overflow: hidden;padding: 0;position: absolute;width: 1px;}#sk-container-id-1 div.sk-estimator {font-family: monospace;background-color: #f0f8ff;border: 1px dotted black;border-radius: 0.25em;box-sizing: border-box;margin-bottom: 0.5em;}#sk-container-id-1 div.sk-estimator:hover {background-color: #d4ebff;}#sk-container-id-1 div.sk-parallel-item::after {content: \"\";width: 100%;border-bottom: 1px solid gray;flex-grow: 1;}#sk-container-id-1 div.sk-label:hover label.sk-toggleable__label {background-color: #d4ebff;}#sk-container-id-1 div.sk-serial::before {content: \"\";position: absolute;border-left: 1px solid gray;box-sizing: border-box;top: 0;bottom: 0;left: 50%;z-index: 0;}#sk-container-id-1 div.sk-serial {display: flex;flex-direction: column;align-items: center;background-color: white;padding-right: 0.2em;padding-left: 0.2em;position: relative;}#sk-container-id-1 div.sk-item {position: relative;z-index: 1;}#sk-container-id-1 div.sk-parallel {display: flex;align-items: stretch;justify-content: center;background-color: white;position: relative;}#sk-container-id-1 div.sk-item::before, #sk-container-id-1 div.sk-parallel-item::before {content: \"\";position: absolute;border-left: 1px solid gray;box-sizing: border-box;top: 0;bottom: 0;left: 50%;z-index: -1;}#sk-container-id-1 div.sk-parallel-item {display: flex;flex-direction: column;z-index: 1;position: relative;background-color: white;}#sk-container-id-1 div.sk-parallel-item:first-child::after {align-self: flex-end;width: 50%;}#sk-container-id-1 div.sk-parallel-item:last-child::after {align-self: flex-start;width: 50%;}#sk-container-id-1 div.sk-parallel-item:only-child::after {width: 0;}#sk-container-id-1 div.sk-dashed-wrapped {border: 1px dashed gray;margin: 0 0.4em 0.5em 0.4em;box-sizing: border-box;padding-bottom: 0.4em;background-color: white;}#sk-container-id-1 div.sk-label label {font-family: monospace;font-weight: bold;display: inline-block;line-height: 1.2em;}#sk-container-id-1 div.sk-label-container {text-align: center;}#sk-container-id-1 div.sk-container {/* jupyter's `normalize.less` sets `[hidden] { display: none; }` but bootstrap.min.css set `[hidden] { display: none !important; }` so we also need the `!important` here to be able to override the default hidden behavior on the sphinx rendered scikit-learn.org. See: https://github.com/scikit-learn/scikit-learn/issues/21755 */display: inline-block !important;position: relative;}#sk-container-id-1 div.sk-text-repr-fallback {display: none;}</style><div id=\"sk-container-id-1\" class=\"sk-top-container\"><div class=\"sk-text-repr-fallback\"><pre>NearestNeighbors(metric=&#x27;cosine&#x27;, n_neighbors=10)</pre><b>In a Jupyter environment, please rerun this cell to show the HTML representation or trust the notebook. <br />On GitHub, the HTML representation is unable to render, please try loading this page with nbviewer.org.</b></div><div class=\"sk-container\" hidden><div class=\"sk-item\"><div class=\"sk-estimator sk-toggleable\"><input class=\"sk-toggleable__control sk-hidden--visually\" id=\"sk-estimator-id-1\" type=\"checkbox\" checked><label for=\"sk-estimator-id-1\" class=\"sk-toggleable__label sk-toggleable__label-arrow\">NearestNeighbors</label><div class=\"sk-toggleable__content\"><pre>NearestNeighbors(metric=&#x27;cosine&#x27;, n_neighbors=10)</pre></div></div></div></div></div>"
      ],
      "text/plain": [
       "NearestNeighbors(metric='cosine', n_neighbors=10)"
      ]
     },
     "execution_count": 24,
     "metadata": {},
     "output_type": "execute_result"
    }
   ],
   "source": [
    "# Create the KNN model\n",
    "knn_model = NearestNeighbors(n_neighbors=10, metric='cosine')  # Adjust the number of neighbors as needed\n",
    "\n",
    "# Fit the model on your preprocessed data\n",
    "knn_model.fit(df_2)"
   ]
  },
  {
   "cell_type": "code",
   "execution_count": 25,
   "id": "1d2e01bb",
   "metadata": {},
   "outputs": [],
   "source": [
    "def sim_track_find(song_name):\n",
    "    a = 0\n",
    "    b = 0\n",
    "    song = []\n",
    "    indexes = []\n",
    "    for i in data[\"track_name\"]:\n",
    "        if song_name.lower() in i.lower():\n",
    "            song.append(df_2[a:a+1].values)\n",
    "            indexes.append(a)\n",
    "            b+=1\n",
    "        a+=1\n",
    "    if b == 0:\n",
    "        print(\"Nothing found. Please try something else :)\")\n",
    "        return 0\n",
    "        \n",
    "    return song[0][0], indexes[0]"
   ]
  },
  {
   "cell_type": "code",
   "execution_count": 26,
   "id": "a88aaac7",
   "metadata": {},
   "outputs": [
    {
     "name": "stdout",
     "output_type": "stream",
     "text": [
      "1. The Trouble with Wanting by Joy Williams\n",
      "2. What About Us - Acoustic by Thomas Daniel\n",
      "3. Home by Gabrielle Aplin\n",
      "4. Breathe (2 AM) by Anna Nalick\n",
      "5. Can You Feel the Love Tonight by Boyce Avenue\n",
      "6. A Thousand Years by Boyce Avenue\n",
      "7. Light Me Up by Ingrid Michaelson\n",
      "8. Time After Time by Boyce Avenue\n",
      "9. A Safe Place to Land (feat. John Legend) by Sara Bareilles\n",
      "10. Moon River by JJ Heller\n"
     ]
    }
   ],
   "source": [
    "def recommend_songs(song_name, num_recommendations=10):\n",
    "    song_data, song_index = sim_track_find(song_name)\n",
    "    \n",
    "    if song_data is not None:\n",
    "        # Use the KNN model to find the nearest neighbors\n",
    "        distances, indices = knn_model.kneighbors([song_data], n_neighbors=num_recommendations+1)\n",
    "        \n",
    "        # Exclude the input song itself from recommendations\n",
    "        indices = indices[:, 1:]\n",
    "        \n",
    "        recommended_songs = []\n",
    "        for index in indices[0]:\n",
    "            recommended_songs.append((df[\"name\"][index], df[\"artist\"][index]))\n",
    "        \n",
    "        return recommended_songs\n",
    "    else:\n",
    "        return []\n",
    "\n",
    "recommended_songs = recommend_songs(\"Fast Car\")\n",
    "for i, (song_name, artist) in enumerate(recommended_songs, start=1):\n",
    "    print(f\"{i}. {song_name} by {artist}\")"
   ]
  },
  {
   "cell_type": "markdown",
   "id": "cfd6b5da",
   "metadata": {},
   "source": [
    "# Model 3: Random Forest"
   ]
  },
  {
   "cell_type": "code",
   "execution_count": 27,
   "id": "03558958",
   "metadata": {
    "scrolled": true
   },
   "outputs": [],
   "source": [
    "from sklearn.ensemble import RandomForestRegressor\n",
    "features = ['danceability', 'duration_ms', 'instrumentalness', 'liveness', 'loudness']\n",
    "\n",
    "X = df[features]\n",
    "y = df[\"popularity\"] "
   ]
  },
  {
   "cell_type": "code",
   "execution_count": 28,
   "id": "28ef4550",
   "metadata": {},
   "outputs": [
    {
     "data": {
      "text/html": [
       "<style>#sk-container-id-2 {color: black;}#sk-container-id-2 pre{padding: 0;}#sk-container-id-2 div.sk-toggleable {background-color: white;}#sk-container-id-2 label.sk-toggleable__label {cursor: pointer;display: block;width: 100%;margin-bottom: 0;padding: 0.3em;box-sizing: border-box;text-align: center;}#sk-container-id-2 label.sk-toggleable__label-arrow:before {content: \"▸\";float: left;margin-right: 0.25em;color: #696969;}#sk-container-id-2 label.sk-toggleable__label-arrow:hover:before {color: black;}#sk-container-id-2 div.sk-estimator:hover label.sk-toggleable__label-arrow:before {color: black;}#sk-container-id-2 div.sk-toggleable__content {max-height: 0;max-width: 0;overflow: hidden;text-align: left;background-color: #f0f8ff;}#sk-container-id-2 div.sk-toggleable__content pre {margin: 0.2em;color: black;border-radius: 0.25em;background-color: #f0f8ff;}#sk-container-id-2 input.sk-toggleable__control:checked~div.sk-toggleable__content {max-height: 200px;max-width: 100%;overflow: auto;}#sk-container-id-2 input.sk-toggleable__control:checked~label.sk-toggleable__label-arrow:before {content: \"▾\";}#sk-container-id-2 div.sk-estimator input.sk-toggleable__control:checked~label.sk-toggleable__label {background-color: #d4ebff;}#sk-container-id-2 div.sk-label input.sk-toggleable__control:checked~label.sk-toggleable__label {background-color: #d4ebff;}#sk-container-id-2 input.sk-hidden--visually {border: 0;clip: rect(1px 1px 1px 1px);clip: rect(1px, 1px, 1px, 1px);height: 1px;margin: -1px;overflow: hidden;padding: 0;position: absolute;width: 1px;}#sk-container-id-2 div.sk-estimator {font-family: monospace;background-color: #f0f8ff;border: 1px dotted black;border-radius: 0.25em;box-sizing: border-box;margin-bottom: 0.5em;}#sk-container-id-2 div.sk-estimator:hover {background-color: #d4ebff;}#sk-container-id-2 div.sk-parallel-item::after {content: \"\";width: 100%;border-bottom: 1px solid gray;flex-grow: 1;}#sk-container-id-2 div.sk-label:hover label.sk-toggleable__label {background-color: #d4ebff;}#sk-container-id-2 div.sk-serial::before {content: \"\";position: absolute;border-left: 1px solid gray;box-sizing: border-box;top: 0;bottom: 0;left: 50%;z-index: 0;}#sk-container-id-2 div.sk-serial {display: flex;flex-direction: column;align-items: center;background-color: white;padding-right: 0.2em;padding-left: 0.2em;position: relative;}#sk-container-id-2 div.sk-item {position: relative;z-index: 1;}#sk-container-id-2 div.sk-parallel {display: flex;align-items: stretch;justify-content: center;background-color: white;position: relative;}#sk-container-id-2 div.sk-item::before, #sk-container-id-2 div.sk-parallel-item::before {content: \"\";position: absolute;border-left: 1px solid gray;box-sizing: border-box;top: 0;bottom: 0;left: 50%;z-index: -1;}#sk-container-id-2 div.sk-parallel-item {display: flex;flex-direction: column;z-index: 1;position: relative;background-color: white;}#sk-container-id-2 div.sk-parallel-item:first-child::after {align-self: flex-end;width: 50%;}#sk-container-id-2 div.sk-parallel-item:last-child::after {align-self: flex-start;width: 50%;}#sk-container-id-2 div.sk-parallel-item:only-child::after {width: 0;}#sk-container-id-2 div.sk-dashed-wrapped {border: 1px dashed gray;margin: 0 0.4em 0.5em 0.4em;box-sizing: border-box;padding-bottom: 0.4em;background-color: white;}#sk-container-id-2 div.sk-label label {font-family: monospace;font-weight: bold;display: inline-block;line-height: 1.2em;}#sk-container-id-2 div.sk-label-container {text-align: center;}#sk-container-id-2 div.sk-container {/* jupyter's `normalize.less` sets `[hidden] { display: none; }` but bootstrap.min.css set `[hidden] { display: none !important; }` so we also need the `!important` here to be able to override the default hidden behavior on the sphinx rendered scikit-learn.org. See: https://github.com/scikit-learn/scikit-learn/issues/21755 */display: inline-block !important;position: relative;}#sk-container-id-2 div.sk-text-repr-fallback {display: none;}</style><div id=\"sk-container-id-2\" class=\"sk-top-container\"><div class=\"sk-text-repr-fallback\"><pre>RandomForestRegressor(random_state=42)</pre><b>In a Jupyter environment, please rerun this cell to show the HTML representation or trust the notebook. <br />On GitHub, the HTML representation is unable to render, please try loading this page with nbviewer.org.</b></div><div class=\"sk-container\" hidden><div class=\"sk-item\"><div class=\"sk-estimator sk-toggleable\"><input class=\"sk-toggleable__control sk-hidden--visually\" id=\"sk-estimator-id-2\" type=\"checkbox\" checked><label for=\"sk-estimator-id-2\" class=\"sk-toggleable__label sk-toggleable__label-arrow\">RandomForestRegressor</label><div class=\"sk-toggleable__content\"><pre>RandomForestRegressor(random_state=42)</pre></div></div></div></div></div>"
      ],
      "text/plain": [
       "RandomForestRegressor(random_state=42)"
      ]
     },
     "execution_count": 28,
     "metadata": {},
     "output_type": "execute_result"
    }
   ],
   "source": [
    "rf_model = RandomForestRegressor(n_estimators=100, random_state=42)\n",
    "rf_model.fit(X, y)"
   ]
  },
  {
   "cell_type": "code",
   "execution_count": 29,
   "id": "399e7173",
   "metadata": {},
   "outputs": [],
   "source": [
    "def recommend_songs_rf(model, input_features, num_recommendations=10):\n",
    "    # Predict popularity scores for input features\n",
    "    predicted_popularity = model.predict(input_features)\n",
    "    \n",
    "    # Combine predicted popularity scores with song names and artists\n",
    "    recommendations_df = pd.DataFrame({\n",
    "        'name': df['name'],\n",
    "        'artist': df['artist'],\n",
    "        'predicted_popularity': predicted_popularity\n",
    "    })\n",
    "    \n",
    "    # Sort recommendations by predicted popularity in descending order\n",
    "    recommendations_df = recommendations_df.sort_values(\n",
    "        by='predicted_popularity',\n",
    "        ascending=False\n",
    "    )\n",
    "    \n",
    "    # Exclude songs that were in the input features\n",
    "    recommendations_df = recommendations_df[~recommendations_df.index.isin(input_features.index)]\n",
    "    \n",
    "    # Return the top N recommended songs\n",
    "    recommended_songs = recommendations_df.head(num_recommendations)\n",
    "    return recommended_songs\n",
    "\n",
    "\n",
    "\n",
    "\n"
   ]
  },
  {
   "cell_type": "code",
   "execution_count": 30,
   "id": "2a3335b3",
   "metadata": {},
   "outputs": [
    {
     "data": {
      "text/plain": [
       "[('The Trouble with Wanting', 'Joy Williams'),\n",
       " ('What About Us - Acoustic', 'Thomas Daniel'),\n",
       " ('Home', 'Gabrielle Aplin'),\n",
       " ('Breathe (2 AM)', 'Anna Nalick'),\n",
       " ('Can You Feel the Love Tonight', 'Boyce Avenue'),\n",
       " ('A Thousand Years', 'Boyce Avenue'),\n",
       " ('Light Me Up', 'Ingrid Michaelson'),\n",
       " ('Time After Time', 'Boyce Avenue'),\n",
       " ('A Safe Place to Land (feat. John Legend)', 'Sara Bareilles'),\n",
       " ('Moon River', 'JJ Heller')]"
      ]
     },
     "execution_count": 30,
     "metadata": {},
     "output_type": "execute_result"
    }
   ],
   "source": [
    "recommended_songs\n"
   ]
  },
  {
   "cell_type": "markdown",
   "id": "1a264c9e",
   "metadata": {},
   "source": [
    "### 4. Defining function for song recommendation by artist"
   ]
  },
  {
   "cell_type": "code",
   "execution_count": 31,
   "id": "c3be4e2f-abaf-47f7-b822-9bd2cfab98a3",
   "metadata": {},
   "outputs": [],
   "source": [
    "def find_song_by_artist(artist_name):\n",
    "    a = 0\n",
    "    b = 0\n",
    "    found_songs = []  # Create an empty list to store the found songs\n",
    "    for i in data[\"artist_name\"]:\n",
    "        if artist_name.lower() in i.lower():\n",
    "            found_songs.append((data[\"track_name\"][a], data[\"artist_name\"][a]))\n",
    "            b += 1\n",
    "        a += 1\n",
    "    if b == 0:\n",
    "        print(\"Nothing found. Please try something else :)\")\n",
    "    else:\n",
    "        # Convert the list of found songs to a DataFrame\n",
    "        found_songs_df = pd.DataFrame(found_songs, columns=[\"Song Name\", \"Artist\"])\n",
    "        \n",
    "        # Display the top 10 found songs\n",
    "        print(found_songs_df.head(10))"
   ]
  },
  {
   "cell_type": "code",
   "execution_count": 32,
   "id": "dbeaaf1a-076f-4a5d-baaf-1086fe5494f5",
   "metadata": {},
   "outputs": [
    {
     "name": "stdin",
     "output_type": "stream",
     "text": [
      "Enter the artist's name:  AJJ\n"
     ]
    },
    {
     "name": "stdout",
     "output_type": "stream",
     "text": [
      "                 Song Name Artist\n",
      "0                Black Dog    AJJ\n",
      "1     Hate Song for Brains    AJJ\n",
      "2             Lady Liberty    AJJ\n",
      "3       Lookin' for a Love    AJJ\n",
      "4  Dipping Things in Stuff    AJJ\n",
      "5           Skipping Stone    AJJ\n",
      "6        This Is Not a War    AJJ\n",
      "7              Hate & Kill    AJJ\n",
      "8             Lucky Strike    AJJ\n",
      "9     Joe Arpaio Is a Punk    AJJ\n"
     ]
    }
   ],
   "source": [
    "artist_name = input(\"Enter the artist's name: \")\n",
    "find_song_by_artist(artist_name)"
   ]
  },
  {
   "cell_type": "markdown",
   "id": "62425ea4",
   "metadata": {},
   "source": [
    "### 5. Defining function for song recommendation by genre"
   ]
  },
  {
   "cell_type": "code",
   "execution_count": 33,
   "id": "2eeabe9a",
   "metadata": {},
   "outputs": [],
   "source": [
    "def find_songs_by_genre(genre):\n",
    "    songs_in_genre = df[df[genre] == 1]\n",
    "    if songs_in_genre.empty:\n",
    "        print(\"No songs found in the genre:\", genre)\n",
    "    else:\n",
    "        print(\"Songs in the genre:\", genre)\n",
    "        print(songs_in_genre[[\"name\", \"artist\"]].head(10))"
   ]
  },
  {
   "cell_type": "code",
   "execution_count": 34,
   "id": "a8072c64",
   "metadata": {},
   "outputs": [
    {
     "name": "stdin",
     "output_type": "stream",
     "text": [
      "Enter the genre you want to find songs for:  chill\n"
     ]
    },
    {
     "name": "stdout",
     "output_type": "stream",
     "text": [
      "Songs in the genre: chill\n",
      "                   name             artist\n",
      "968  How Did I Get Here             ODESZA\n",
      "969          fineshrine        Purity Ring\n",
      "970        Another Love          Tom Odell\n",
      "971             Origins             Tennis\n",
      "972          Don't Stop             ODESZA\n",
      "973      IPlayYouListen             ODESZA\n",
      "974          I Wanna Go       Summer Heart\n",
      "975          MN84 Theme  Miami Nights 1984\n",
      "976      A Great Design       Black Marble\n",
      "977                Baby         Ariel Pink\n"
     ]
    }
   ],
   "source": [
    "genre_input = input(\"Enter the genre you want to find songs for: \")\n",
    "find_songs_by_genre(genre_input)"
   ]
  },
  {
   "cell_type": "code",
   "execution_count": 35,
   "id": "10051ace",
   "metadata": {},
   "outputs": [
    {
     "data": {
      "image/png": "[encoded data removed]",
      "text/plain": [
       "<Figure size 640x480 with 1 Axes>"
      ]
     },
     "metadata": {},
     "output_type": "display_data"
    }
   ],
   "source": [
    "from sklearn.cluster import KMeans\n",
    "import matplotlib.pyplot as plt\n",
    "\n",
    "plt.plot(range(1, 10), wcss)\n",
    "plt.title('Elbow Method')\n",
    "plt.xlabel('Number of clusters (K)')\n",
    "plt.ylabel('Within-Cluster-Sum-of-Squares (WCSS)')\n",
    "plt.show()"
   ]
  },
  {
   "cell_type": "code",
   "execution_count": 36,
   "id": "b615e0f1-0617-4ce6-a8bf-f6a75cce98c9",
   "metadata": {},
   "outputs": [
    {
     "name": "stdout",
     "output_type": "stream",
     "text": [
      "Mean Absolute Error (MAE): 0.7468055685074164\n",
      "Mean Squared Error (MSE): 0.8511617044328782\n",
      "R-squared (R2) Score: 0.15037965668472664\n"
     ]
    }
   ],
   "source": [
    "from sklearn.model_selection import train_test_split\n",
    "from sklearn.metrics import mean_absolute_error, mean_squared_error, r2_score\n",
    "from sklearn.ensemble import RandomForestRegressor\n",
    "\n",
    "# Split the data into training and testing sets (e.g., 80% train, 20% test)\n",
    "X_train, X_test, y_train, y_test = train_test_split(X, y, test_size=0.2, random_state=42)\n",
    "\n",
    "# Train the Random Forest Regressor\n",
    "rf_model = RandomForestRegressor(n_estimators=100, random_state=42)\n",
    "rf_model.fit(X_train, y_train)\n",
    "\n",
    "# Make predictions on the test set\n",
    "y_pred = rf_model.predict(X_test)\n",
    "\n",
    "# Evaluate the model's performance\n",
    "mae = mean_absolute_error(y_test, y_pred)\n",
    "mse = mean_squared_error(y_test, y_pred)\n",
    "r2 = r2_score(y_test, y_pred)\n",
    "\n",
    "print(\"Mean Absolute Error (MAE):\", mae)\n",
    "print(\"Mean Squared Error (MSE):\", mse)\n",
    "print(\"R-squared (R2) Score:\", r2)"
   ]
  },
  {
   "cell_type": "code",
   "execution_count": 37,
   "id": "a7d61673",
   "metadata": {},
   "outputs": [
    {
     "data": {
      "text/plain": [
       "['kmeans_model.pkl']"
      ]
     },
     "execution_count": 37,
     "metadata": {},
     "output_type": "execute_result"
    }
   ],
   "source": [
    "import joblib\n",
    "\n",
    "# Save the K-Means clustering model\n",
    "model_filename = \"kmeans_model.pkl\"\n",
    "joblib.dump(clusters_new, model_filename)"
   ]
  },
  {
   "cell_type": "code",
   "execution_count": 38,
   "id": "87da492e",
   "metadata": {},
   "outputs": [
    {
     "data": {
      "text/plain": [
       "['songs_data.pkl']"
      ]
     },
     "execution_count": 38,
     "metadata": {},
     "output_type": "execute_result"
    }
   ],
   "source": [
    "# Save the DataFrame containing your data\n",
    "data_filename = \"songs_data.pkl\"\n",
    "joblib.dump(df, data_filename)"
   ]
  },
  {
   "cell_type": "code",
   "execution_count": 39,
   "id": "234c053f",
   "metadata": {},
   "outputs": [
    {
     "data": {
      "text/plain": [
       "['songs_dataset.pkl']"
      ]
     },
     "execution_count": 39,
     "metadata": {},
     "output_type": "execute_result"
    }
   ],
   "source": [
    "# Save the dataset\n",
    "joblib.dump(data, \"songs_dataset.pkl\")"
   ]
  }
 ],
 "metadata": {
  "kernelspec": {
   "display_name": "Python 3 (ipykernel)",
   "language": "python",
   "name": "python3"
  },
  "language_info": {
   "codemirror_mode": {
    "name": "ipython",
    "version": 3
   },
   "file_extension": ".py",
   "mimetype": "text/x-python",
   "name": "python",
   "nbconvert_exporter": "python",
   "pygments_lexer": "ipython3",
   "version": "3.11.5"
  }
 },
 "nbformat": 4,
 "nbformat_minor": 5
}
